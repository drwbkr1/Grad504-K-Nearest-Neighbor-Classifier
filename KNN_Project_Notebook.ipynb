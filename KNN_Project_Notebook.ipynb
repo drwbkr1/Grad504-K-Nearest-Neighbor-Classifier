{
  "nbformat": 4,
  "nbformat_minor": 0,
  "metadata": {
    "colab": {
      "provenance": [],
      "mount_file_id": "1Icjd9peBw30wo9-UO9T7Bsc9X78KNtB2",
      "authorship_tag": "ABX9TyNMpfMPAwST8LzcODpA/PiE",
      "include_colab_link": true
    },
    "kernelspec": {
      "name": "python3",
      "display_name": "Python 3"
    },
    "language_info": {
      "name": "python"
    }
  },
  "cells": [
    {
      "cell_type": "markdown",
      "metadata": {
        "id": "view-in-github",
        "colab_type": "text"
      },
      "source": [
        "<a href=\"https://colab.research.google.com/github/drwbkr1/Grad504-K-Nearest-Neighbor-Classifier/blob/main/KNN_Project_Notebook.ipynb\" target=\"_parent\"><img src=\"https://colab.research.google.com/assets/colab-badge.svg\" alt=\"Open In Colab\"/></a>"
      ]
    },
    {
      "cell_type": "code",
      "execution_count": 1,
      "metadata": {
        "collapsed": true,
        "id": "rloNfyMJSdL6"
      },
      "outputs": [],
      "source": [
        "#load dataset\n",
        "import pandas as pd\n",
        "import numpy as np\n",
        "\n",
        "file= (\"/content/drive/MyDrive/Colab Notebooks/datasets/Prog1data.csv\")\n"
      ]
    },
    {
      "cell_type": "code",
      "source": [
        "#Any dataset is verified for basic parameters before preprocessing.\n",
        "def load_csv(file):\n",
        "  df= pd.read_csv(file)\n",
        "\n",
        "  #Check for data in dataset, numerical features for supporting floating-point inputs\n",
        "  if df.shape[1] < 2:\n",
        "    raise ValueError(\"File must have at least one feature and a target\")\n",
        "  try:\n",
        "    X_df= df.iloc[:, :-1].astype(float)\n",
        "  except ValueError:\n",
        "    raise ValueError(\"Error: Features must be numerical\")\n",
        "\n",
        "  #Split dataset into features and target, features to floating point.\n",
        "  X= df.iloc[:, :-1].to_numpy(dtype=float)\n",
        "  y= df.iloc[:, -1].to_numpy()\n",
        "\n",
        "  #Check for feature-target congruency, feature congruency\n",
        "  if not X.shape[0]==y.shape[0]:\n",
        "    raise ValueError(\"Error: Number of features and target must be the same\")\n",
        "  if not all(len(features)==len(X[0]) for features in X):\n",
        "    raise ValueError(\"Error: All features must have the same length\")\n",
        "\n",
        "  return X, y\n",
        "\n",
        "#Load data into core variables\n",
        "X, y= load_csv(file)\n",
        "for i in range(3):\n",
        "  print(X[i], y[i])\n",
        "print(X.dtype, y.dtype)"
      ],
      "metadata": {
        "id": "oBm7tNrgZBSt",
        "colab": {
          "base_uri": "https://localhost:8080/"
        },
        "outputId": "148ee05b-2077-41f8-f437-769c9aede495"
      },
      "execution_count": 2,
      "outputs": [
        {
          "output_type": "stream",
          "name": "stdout",
          "text": [
            "[ 8.  9.  0. 26. 10. 25.  7. 68.  2.  7. 10.] +\n",
            "[ 8.  8.  0. 23.  9. 15.  5. 70.  3.  7. 10.] +\n",
            "[11.  3.  6. 19.  8. 17.  6. 80.  2.  6. 10.] +\n",
            "float64 object\n"
          ]
        }
      ]
    },
    {
      "cell_type": "code",
      "source": [
        "class KNNClassifier:\n",
        "  def __init__(self, n_neighbors):\n",
        "    self.k= n_neighbors\n",
        "    self.X_train= []\n",
        "    self.y_train= []\n",
        "\n",
        "  def fit(self, X_train, y_train):\n",
        "    self.X_train= X_train\n",
        "    self.y_train= y_train\n",
        "\n",
        "  def euclidean_distance(self, X_test, X_train):\n",
        "    distance= np.sqrt(sum((X_testi - X_traini)**2 for X_testi, X_traini in zip(X_test, X_train)))\n",
        "    return distance\n",
        "\n",
        "  def KNN_classifier(self, X_test):\n",
        "    distances= [(self.euclidean_distance(X_test, X_train), label) for X_train, label in zip(X_train, y_train)]\n",
        "    distances.sort(key=lambda x: x[0])\n",
        "    k_neighbors= [label for _, label in distances[:self.k]]\n",
        "    from collections import Counter\n",
        "    return Counter(k_neighbors).most_common(1)[0][0]\n",
        "\n",
        "  def predict(self, X_test):\n",
        "    return [self.KNN_classifier(x) for x in X_test]"
      ],
      "metadata": {
        "id": "z0Xbrc4hrMcv"
      },
      "execution_count": 10,
      "outputs": []
    },
    {
      "cell_type": "code",
      "source": [
        "X_test= [1, 2, 3], [7,8,9], [10, 9, 11]\n",
        "X_train= [4, 5, 6], [7, 8, 9], [10, 11, 12], [13, 14, 15], [0, 20, 7], [24, -2, 9], [4, 13, 14]\n",
        "y_train= [\"+\", \"-\", \"+\", \"+\", \"-\", \"+\", \"-\"]\n",
        "\n",
        "model= KNNClassifier(n_neighbors= 5)\n",
        "model.fit(X_train, y_train)\n",
        "predictions= model.predict(X_test)\n",
        "print(predictions)"
      ],
      "metadata": {
        "colab": {
          "base_uri": "https://localhost:8080/"
        },
        "id": "F_MsM1otz7AM",
        "outputId": "fea6661b-8d43-45bf-88c7-a800114bb84d"
      },
      "execution_count": 16,
      "outputs": [
        {
          "output_type": "stream",
          "name": "stdout",
          "text": [
            "['-', '+', '+']\n"
          ]
        }
      ]
    }
  ]
}