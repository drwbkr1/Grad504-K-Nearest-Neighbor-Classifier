{
  "nbformat": 4,
  "nbformat_minor": 0,
  "metadata": {
    "colab": {
      "provenance": [],
      "mount_file_id": "1Icjd9peBw30wo9-UO9T7Bsc9X78KNtB2",
      "authorship_tag": "ABX9TyOcoLbUriDe0GIpEqy5Z/Sd",
      "include_colab_link": true
    },
    "kernelspec": {
      "name": "python3",
      "display_name": "Python 3"
    },
    "language_info": {
      "name": "python"
    }
  },
  "cells": [
    {
      "cell_type": "markdown",
      "metadata": {
        "id": "view-in-github",
        "colab_type": "text"
      },
      "source": [
        "<a href=\"https://colab.research.google.com/github/drwbkr1/Grad504-K-Nearest-Neighbor-Classifier/blob/main/KNN_Project_Notebook.ipynb\" target=\"_parent\"><img src=\"https://colab.research.google.com/assets/colab-badge.svg\" alt=\"Open In Colab\"/></a>"
      ]
    },
    {
      "cell_type": "code",
      "execution_count": null,
      "metadata": {
        "collapsed": true,
        "id": "rloNfyMJSdL6"
      },
      "outputs": [],
      "source": [
        "#load dataset\n",
        "import pandas as pd\n",
        "import numpy as np"
      ]
    },
    {
      "cell_type": "code",
      "source": [
        "#Any dataset is verified for basic parameters before preprocessing.\n",
        "def load_csv(file):\n",
        "  df= pd.read_csv(file)\n",
        "\n",
        "  #Check for data in dataset, numerical features for supporting floating-point inputs\n",
        "  if df.shape[1] < 2:\n",
        "    raise ValueError(\"File must have at least one feature and a target\")\n",
        "  try:\n",
        "    X_df= df.iloc[:, :-1].astype(float)\n",
        "  except ValueError:\n",
        "    raise ValueError(\"Error: Features must be numerical\")\n",
        "\n",
        "  #Split dataset into features and target, features to floating point.\n",
        "  X= df.iloc[:, :-1].to_numpy(dtype=float)\n",
        "  y= df.iloc[:, -1].to_numpy()\n",
        "\n",
        "  #Check for feature-target congruency, feature congruency\n",
        "  if not X.shape[0]==y.shape[0]:\n",
        "    raise ValueError(\"Error: Features and target must have the same length\")\n",
        "  if not all(len(features)==len(X[0]) for features in X):\n",
        "    raise ValueError(\"Error: All features must have the same length\")\n",
        "\n",
        "  return X, y"
      ],
      "metadata": {
        "id": "oBm7tNrgZBSt"
      },
      "execution_count": null,
      "outputs": []
    },
    {
      "cell_type": "code",
      "source": [
        "#Establish the model class to create new instance for any dataset. Includes classifier mechanics and fit/predict methods.\n",
        "class KNNClassifier:\n",
        "  def __init__(self, n_neighbors):\n",
        "    self.k= n_neighbors\n",
        "    self.X_train= []\n",
        "    self.y_train= []\n",
        "\n",
        "  def fit(self, X_train, y_train): #Receives training split, fit it to KNN instance.\n",
        "    self.X_train= X_train\n",
        "    self.y_train= y_train\n",
        "\n",
        "  def euclidean_distance(self, X_test, X_train):\n",
        "    distance= np.sqrt(sum((X_testi - X_traini)**2 for X_testi, X_traini in zip(X_test, X_train)))\n",
        "    return distance\n",
        "\n",
        "  def KNN_classifier(self, X_test):\n",
        "    distances= [(self.euclidean_distance(X_test, X_train), label) for X_train, label in zip(X_train, y_train)]\n",
        "    distances.sort(key=lambda x: x[0])\n",
        "    k_neighbors= [label for _, label in distances[:self.k]]\n",
        "    from collections import Counter\n",
        "    return Counter(k_neighbors).most_common(1)[0][0]\n",
        "\n",
        "  def predict(self, X_test): #Utilizes KNN_classifier method to create a list of predicted classifiers.\n",
        "    return [self.KNN_classifier(x) for x in X_test]"
      ],
      "metadata": {
        "id": "z0Xbrc4hrMcv"
      },
      "execution_count": null,
      "outputs": []
    },
    {
      "cell_type": "code",
      "source": [
        "course= (\"/content/drive/MyDrive/Colab Notebooks/datasets/Prog1data.csv\")\n",
        "iris= (\"/content/drive/MyDrive/Colab Notebooks/datasets/Iris.csv\")\n",
        "\n",
        "#Load data into core variables\n",
        "X, y= load_csv(iris)\n",
        "for i in range(3):\n",
        "  print(X[i], y[i])\n",
        "print(X.dtype, y.dtype)"
      ],
      "metadata": {
        "id": "mQZITl3zWasV",
        "colab": {
          "base_uri": "https://localhost:8080/"
        },
        "outputId": "47b867ed-1595-40a4-bbdd-6efee05ec284"
      },
      "execution_count": 72,
      "outputs": [
        {
          "output_type": "stream",
          "name": "stdout",
          "text": [
            "[1.  5.1 3.5 1.4 0.2] Iris-setosa\n",
            "[2.  4.9 3.  1.4 0.2] Iris-setosa\n",
            "[3.  4.7 3.2 1.3 0.2] Iris-setosa\n",
            "float64 object\n",
            "150\n"
          ]
        }
      ]
    },
    {
      "cell_type": "code",
      "source": [
        "# @title\n",
        "from sklearn.manifold import TSNE\n",
        "import seaborn as sns\n",
        "\n",
        "tsne= TSNE(n_components= 2, random_state= 0)\n",
        "X_tsne= tsne.fit_transform(X)\n",
        "tsne_df= pd.DataFrame(X_tsne, columns= ['TSNE_dim1', 'TSNE_dim2'])\n",
        "\n",
        "sns.scatterplot(x= 'TSNE_dim1',\n",
        "                y= 'TSNE_dim2',\n",
        "                data= tsne_df,\n",
        "                hue = y)\n"
      ],
      "metadata": {
        "id": "1UXl5nCTQpME",
        "cellView": "form"
      },
      "execution_count": null,
      "outputs": []
    },
    {
      "cell_type": "code",
      "source": [
        "step_sizes= [10, 20, 30, 50, 100, 200, 300, 500, 700, 1000, 1500, (len(X) - 1)]\n",
        "print(step_sizes)"
      ],
      "metadata": {
        "colab": {
          "base_uri": "https://localhost:8080/"
        },
        "id": "KLAdBEWipxo7",
        "outputId": "32c1ad56-0df5-4af9-e222-c00eabf3ed9c"
      },
      "execution_count": 73,
      "outputs": [
        {
          "output_type": "stream",
          "name": "stdout",
          "text": [
            "[10, 20, 30, 50, 100, 200, 300, 500, 700, 1000, 1500, 149]\n"
          ]
        }
      ]
    },
    {
      "cell_type": "code",
      "source": [
        "for n_rows in step_sizes:\n",
        "  if n_rows > len(X):\n",
        "    break\n",
        "\n",
        "  X_subset= X[:n_rows]\n",
        "  y_subset= y[:n_rows]\n",
        "\n",
        "  train_frac= .6\n",
        "  rng= np.random.default_rng(seed= 0)\n",
        "  shuffled_idx= rng.permutation(len(X))\n",
        "  n_train= int(len(X) * train_frac)\n",
        "\n",
        "  train_idx= shuffled_idx[:n_train]\n",
        "  test_idx= shuffled_idx[n_train:]\n",
        "\n",
        "  X_train= X[train_idx]\n",
        "  y_train= y[train_idx]\n",
        "  X_test=X[test_idx]\n",
        "  y_test= y[test_idx]\n"
      ],
      "metadata": {
        "id": "M7XVm2tAo-1d"
      },
      "execution_count": null,
      "outputs": []
    },
    {
      "cell_type": "code",
      "source": [
        "def KNN_fit_pred():\n",
        "  model= KNNClassifier(n_neighbors= 5)\n",
        "  model.fit(X_train, y_train)\n",
        "  predictions= model.predict(X_test)\n",
        "  return predictions\n",
        "\n",
        "KNN_fit_pred()\n",
        "correct= sum(p==a for p, a in zip(predictions, y_test))\n",
        "total= len(y_test)\n",
        "accuracy= correct/total\n",
        "\n",
        "print(f'Accuracy:{accuracy: .3f}')"
      ],
      "metadata": {
        "colab": {
          "base_uri": "https://localhost:8080/"
        },
        "id": "z0jLpTLF70yx",
        "outputId": "dd15108b-d16f-4bd3-b16c-89ad4a66df2a"
      },
      "execution_count": 75,
      "outputs": [
        {
          "output_type": "stream",
          "name": "stdout",
          "text": [
            "Accuracy: 0.967\n"
          ]
        }
      ]
    }
  ]
}