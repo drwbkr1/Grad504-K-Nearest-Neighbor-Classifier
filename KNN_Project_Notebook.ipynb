{
  "nbformat": 4,
  "nbformat_minor": 0,
  "metadata": {
    "colab": {
      "provenance": [],
      "mount_file_id": "1Icjd9peBw30wo9-UO9T7Bsc9X78KNtB2",
      "authorship_tag": "ABX9TyPqKU7WZ/Rqp+MJedfYOngZ",
      "include_colab_link": true
    },
    "kernelspec": {
      "name": "python3",
      "display_name": "Python 3"
    },
    "language_info": {
      "name": "python"
    }
  },
  "cells": [
    {
      "cell_type": "markdown",
      "metadata": {
        "id": "view-in-github",
        "colab_type": "text"
      },
      "source": [
        "<a href=\"https://colab.research.google.com/github/drwbkr1/Grad504-K-Nearest-Neighbor-Classifier/blob/main/KNN_Project_Notebook.ipynb\" target=\"_parent\"><img src=\"https://colab.research.google.com/assets/colab-badge.svg\" alt=\"Open In Colab\"/></a>"
      ]
    },
    {
      "cell_type": "markdown",
      "source": [
        "#K-Nearest Neighbor: A Simple Classifier\n",
        "In some machine learning problems, it's helpful to receive predictions on data samples without a heavily coded infrastructure. In cases like these, K-Nearest Nieghbor (KNN) makes for a handy tool in a pinch. Particularly when working with small to medium sized datasets, you can quickly apply a KNN classifier and receive an output. Handling both numerical and categorical data, a user simply needs to provide a cleaned up set to receive benchmark accuracy. Let's take a look at the inner workings of a rudimentary KNN algorithm, its strengths, weaknesses and ways to expand its capabilities."
      ],
      "metadata": {
        "id": "_DT6aDxXA3Mj"
      }
    },
    {
      "cell_type": "code",
      "execution_count": null,
      "metadata": {
        "collapsed": true,
        "id": "rloNfyMJSdL6"
      },
      "outputs": [],
      "source": [
        "import pandas as pd\n",
        "import numpy as np\n",
        "import seaborn as sns\n",
        "import sys\n",
        "import time\n",
        "import warnings\n",
        "from collections import Counter"
      ]
    },
    {
      "cell_type": "markdown",
      "source": [
        "## Data Types\n",
        "The design behind this implementation highlights the abilities of KNN, specifically when applied to continuous data. Thus, I made the decision to work strictly with numerical items. This load function handles the initial feature-target split, converting their dataframes to ndarrays for better compute performance. It also does preliminary sanity checks to ensure relatively clean sets.\n",
        "\n",
        "Specifically, note the warning before the X/y split. I chose to include a soft error for cases in datasets---such as the auto mpg set introduced later---where values are missing or categorical. I wanted users (not that anyone is using this) to have an opportunity to address these cases before fitting the training data to the model. And they can't do that if they can't get past the load function!"
      ],
      "metadata": {
        "id": "ZRE0iSpVVYGz"
      }
    },
    {
      "cell_type": "code",
      "source": [
        "#Any dataset is verified for basic parameters before preprocessing.\n",
        "def load_csv(file):\n",
        "  df= pd.read_csv(file)\n",
        "\n",
        "  #Check for data in dataset, numerical features for supporting floating-point inputs\n",
        "  if df.shape[1] < 2:\n",
        "    raise ValueError(\"File must have at least one feature and a target\")\n",
        "  try:\n",
        "    X_df= df.iloc[:, :-1].astype(float)\n",
        "  except ValueError:\n",
        "    warnings.warn(\"WARNING: Non-numerical datapoints (missing values or categorical) detected!\")\n",
        "\n",
        "  #Split dataset into features and target, dataframes to ndarrays.\n",
        "  X= df.iloc[:, :-1].to_numpy()\n",
        "  y= df.iloc[:, -1].to_numpy()\n",
        "\n",
        "  #Check for feature-target congruency, feature congruency\n",
        "  if not X.shape[0]==y.shape[0]:\n",
        "    raise ValueError(\"Error: Features and target must have the same length\")\n",
        "  if not all(len(features)==len(X[0]) for features in X):\n",
        "    raise ValueError(\"Error: All features must have the same length\")\n",
        "\n",
        "  return X, y"
      ],
      "metadata": {
        "id": "oBm7tNrgZBSt"
      },
      "execution_count": null,
      "outputs": []
    },
    {
      "cell_type": "markdown",
      "source": [
        "## K-Nearest Neighbor Algorithm\n",
        "The next few codeblocks detail the elements of the KNN algorithm. Compared to other machine learning methods, K-nearest neighbor has a surprisingly simple structure:\n",
        "1. Store the training examples.\n",
        "2. Calculate k-nearest datapoints based on a distance measure.\n",
        "3. Assign class prediction based on most common among neighbors.\n",
        "\n",
        "Because of its simplicity, KNN makes for a quick yet reliable classifier when using numerical datasets. However, due to its high number of computations---(n training samples) X (d features) X (m test samples)---it starts to struggle with high-dimentional problems. Performance continually drops when introducing categorical features, as the distance measure gets a little more complex.\n",
        "\n",
        "Let's take a closer look at the components that enable a rudimentary KNN classifier.\n"
      ],
      "metadata": {
        "id": "xpbD3iUCZdt1"
      }
    },
    {
      "cell_type": "markdown",
      "source": [
        "### KNN Model Instance\n",
        "The foundation of this KNN implementation lies in its Euclidean Distance method. This tool receives a training sample and test sample, collects the sum of all their squared feature differences and finds its square root. The calculation outputs a distance that correlates to the cumulative features.\n",
        "\n",
        "As mentioned above, other KNN designs can handle categorical data using another measurement tool. Particularly, Jaccard Distance assumes qualitative items have been converted to a numerical counter(binary, ordinal, one-hot encoding) that can be tallied. However, this version does not include this feature, thus is not the place for a deeper explanation.\n",
        "\n",
        "The adjacent KNN classifier method does just as the name implies---classifies the test sample. It utilizes the distance method, pairing the calculation output with the class associated to the inputted training item. The resulting tuple might look something like (5.12, '+').\n",
        "\n",
        "This classifier will do that for every single training sample in the training set. When it's finished, it organizes them from lowest distance to highest (representing the classes 'nearest' to the test sample). At this point, the 'k' in k-nearest neighber comes in; the classifier segments the top 'k' training samples--that could be 3 if k=3 or 10 if k=10 and so on---and returns the most common class among them.\n",
        "\n",
        "While that might feel like a lot of work, the real kicker lies in the predict method; this tool is going to run that same classifier for the entire index of test samples. When it finishes, we have our output of predictions."
      ],
      "metadata": {
        "id": "EHsXnZJdso_d"
      }
    },
    {
      "cell_type": "code",
      "source": [
        "#Establish the model class to create new instance for any dataset. Includes classifier mechanics and fit/predict methods\n",
        "class KNNClassifier:\n",
        "  def __init__(self, n_neighbors): #Creates an instance of the KNNClassifier\n",
        "    self.k= n_neighbors\n",
        "    self.X_train= []\n",
        "    self.y_train= []\n",
        "\n",
        "  def fit(self, X_train, y_train): #Receives training split, fit it to KNN instance\n",
        "    self.X_train= X_train\n",
        "    self.y_train= y_train\n",
        "\n",
        "  def euclidean_distance(self, X_test, X_train): #Standard distance formula\n",
        "    distance= np.sqrt(sum((X_testi - X_traini)**2 for X_testi, X_traini in zip(X_test, X_train)))\n",
        "    return distance\n",
        "\n",
        "  def KNN_classifier(self, X_test): #Gathers all distances from a test point, orders them by size\n",
        "    distances= [(self.euclidean_distance(X_test, X_train), label) for X_train, label in zip(self.X_train, self.y_train)]\n",
        "    distances.sort(key=lambda x: x[0])\n",
        "    k_neighbors= [label for _, label in distances[:self.k]] #selects closest train points, assigns most common class\n",
        "    return Counter(k_neighbors).most_common(1)[0][0]\n",
        "\n",
        "  def predict(self, X_test): #Utilizes KNN_classifier method to create a list of predicted classifiers\n",
        "    return [self.KNN_classifier(x) for x in X_test] #This is where the model loops over each row in the test set"
      ],
      "metadata": {
        "id": "z0Xbrc4hrMcv"
      },
      "execution_count": null,
      "outputs": []
    },
    {
      "cell_type": "markdown",
      "source": [
        "### Validation\n",
        "Determining how to validate the KNN implementation wasn't so clear at first; As demonstrated below, this classifier does an excellent job making predictions on numerical data. So good is its prediction that a novice developer might be concerned and try a cross validation for a more humble error. However, that novice developer needs to remember: as many computations as KNN is going to make, a cross validation will have it do them a number of folds more.\n",
        "\n",
        "Therefore, choosing the right validation method could require a heuristic approach, possibly even visualizing the data. I think a good rule of thumb might be: the cleaner the data, the easier the validation. If one were to apply KNN to a dataset with much more noise, it may be worth the time to standardize or reduce dimensions."
      ],
      "metadata": {
        "id": "VRrJD5Y8iaw8"
      }
    },
    {
      "cell_type": "code",
      "source": [
        "def train_test_split(X, y, train_frac= .1): #randomizes index, splits index at percentage, assigns split indexes to train and test arrays.\n",
        "  rng= np.random.default_rng(seed= 0)\n",
        "  shuffled_idx= rng.permutation(len(X))\n",
        "  n_train= int(len(X) * train_frac)\n",
        "\n",
        "  train_idx= shuffled_idx[:n_train]\n",
        "  test_idx= shuffled_idx[n_train:]\n",
        "\n",
        "  X_train= X[train_idx]\n",
        "  y_train= y[train_idx]\n",
        "  X_test=X[test_idx]\n",
        "  y_test= y[test_idx]\n",
        "  return X_train, y_train, X_test, y_test"
      ],
      "metadata": {
        "id": "ZexgSHAOsuBG"
      },
      "execution_count": null,
      "outputs": []
    },
    {
      "cell_type": "markdown",
      "source": [
        "### Fitting the Instance\n",
        "Assuming our rudimentary data structure, our K-Nearest Neighbor algorithm only requires a basic fitting. Contrary to the term, KNN doesn't really do any 'machine learning.' Instead it's going to load the entire training set in preparation for the numerous computations it will make when given a comparative test set. By design, the fitting is practically effortless."
      ],
      "metadata": {
        "id": "yeLKPvq3nnhP"
      }
    },
    {
      "cell_type": "code",
      "source": [
        "def KNN_fit_pred(k= 5): #assigns model instance, fits training data, predicts on test data\n",
        "  model= KNNClassifier(n_neighbors= k)\n",
        "  model.fit(X_train, y_train)\n",
        "  predictions= model.predict(X_test)\n",
        "  return predictions"
      ],
      "metadata": {
        "id": "wFnyIAV8ts1U"
      },
      "execution_count": null,
      "outputs": []
    },
    {
      "cell_type": "markdown",
      "source": [
        "## Testing the Model\n",
        "Okay, let's get into loading the datasets and testing the K-Nearest Neighbor algorithm. For practicality in this project, I chose to move the datasets further down the script. It just let me trade them out in my load_csv function with minimal effort. The datasets used in this project include: 1. the course dataset, 2. the Iris dataset, and 3. the Auto_MPG dataset.\n",
        "\n"
      ],
      "metadata": {
        "id": "2dQK-L-yn2tS"
      }
    },
    {
      "cell_type": "markdown",
      "source": [
        "### Load the Datasets\n",
        "In the next two codeblocks, I load the course set and the Iris dataset, known for its unique qualities including\n",
        "- float points\n",
        "- multiple classes (making it nonbinary)\n",
        "\n",
        "As demonstrated, the load function has no problem with with either dataset and throws no errors."
      ],
      "metadata": {
        "id": "sK_t5tZOtKdJ"
      }
    },
    {
      "cell_type": "code",
      "source": [
        "#The list of datasets used during the project\n",
        "course= (\"/content/drive/MyDrive/Colab Notebooks/datasets/Prog1data.csv\") #The required dataset\n",
        "iris= (\"/content/drive/MyDrive/Colab Notebooks/datasets/Iris.csv\") #dataset w/ float points and multiple classes\n",
        "autos= (\"/content/drive/MyDrive/Colab Notebooks/datasets/auto-mpg.csv\") #dataset to trigger missing data error handling\n",
        "\n",
        "#Just copy/paste the desired variable into the load_csv parameter\n",
        "X, y= load_csv(course)\n",
        "for i in range(3):\n",
        "  print(X[i], y[i])\n",
        "print(X.dtype, y.dtype)"
      ],
      "metadata": {
        "id": "mQZITl3zWasV",
        "colab": {
          "base_uri": "https://localhost:8080/"
        },
        "outputId": "9cf508a0-d090-4f2f-f3d5-e3ac5e84f416"
      },
      "execution_count": null,
      "outputs": [
        {
          "output_type": "stream",
          "name": "stdout",
          "text": [
            "[ 8  9  0 26 10 25  7 68  2  7 10] +\n",
            "[ 8  8  0 23  9 15  5 70  3  7 10] +\n",
            "[11  3  6 19  8 17  6 80  2  6 10] +\n",
            "int64 object\n"
          ]
        }
      ]
    },
    {
      "cell_type": "code",
      "source": [
        "X, y= load_csv(iris)\n",
        "for i in range(3):\n",
        "  print(X[i], y[i])\n",
        "print(X.dtype, y.dtype)"
      ],
      "metadata": {
        "colab": {
          "base_uri": "https://localhost:8080/"
        },
        "id": "Q6eRPVYANPgh",
        "outputId": "50f17741-e7a3-480b-915f-95066d09aa03"
      },
      "execution_count": null,
      "outputs": [
        {
          "output_type": "stream",
          "name": "stdout",
          "text": [
            "[1.  5.1 3.5 1.4 0.2] Iris-setosa\n",
            "[2.  4.9 3.  1.4 0.2] Iris-setosa\n",
            "[3.  4.7 3.2 1.3 0.2] Iris-setosa\n",
            "float64 object\n"
          ]
        }
      ]
    },
    {
      "cell_type": "markdown",
      "source": [
        "I also chose to load a classic training set---Auto-MPG---which takes a variety of features to predict fuel efficiency for a vehicle. One of the features (horsepower) has unknown values, and should trigger the warning in the load function as described earlier.\n",
        "\n",
        "As designed, the user can still load the data but knows to preprocess the categorical features for the model before fitting.\n",
        "\n",
        "Generally, empty datapoints are filled by default with a variety of indicators (eg. '?', 'NAN', 'Unknown', etc.) because these are natively categorical, empty items should trigger the same warning."
      ],
      "metadata": {
        "id": "Nx8wrVizoF2m"
      }
    },
    {
      "cell_type": "markdown",
      "source": [
        "*Note: The structure of the Auto_MPG dataset did not align with the load function, accidentally naming the car model feature as the target. An important lesson in viewing the data structure beforehand but the example I was making still stands.*"
      ],
      "metadata": {
        "id": "WkS7-B-QXbs_"
      }
    },
    {
      "cell_type": "code",
      "source": [
        "X, y= load_csv(autos)\n",
        "for i in range(3):\n",
        "  print(X[i], y[i])\n",
        "print(X.dtype, y.dtype)"
      ],
      "metadata": {
        "colab": {
          "base_uri": "https://localhost:8080/"
        },
        "id": "FiRSTY_wNUPT",
        "outputId": "2b648ff0-1cf3-4614-bff1-749d5a28cb91"
      },
      "execution_count": null,
      "outputs": [
        {
          "output_type": "stream",
          "name": "stdout",
          "text": [
            "[18.0 8 307.0 '130' 3504 12.0 70 1] chevrolet chevelle malibu\n",
            "[15.0 8 350.0 '165' 3693 11.5 70 1] buick skylark 320\n",
            "[18.0 8 318.0 '150' 3436 11.0 70 1] plymouth satellite\n",
            "object object\n"
          ]
        },
        {
          "output_type": "stream",
          "name": "stderr",
          "text": [
            "/tmp/ipython-input-152-537932513.py:11: UserWarning: WARNING: Non-numerical datapoints (missing values or categorical) detected!\n",
            "  warnings.warn(\"WARNING: Non-numerical datapoints (missing values or categorical) detected!\")\n"
          ]
        }
      ]
    },
    {
      "cell_type": "markdown",
      "source": [
        "### Fit/Predict\n",
        "In the example below, I loaded the course dataset to the KNN instance. I split the data at 70% training, 30% test. I chose a modest split in this example to demonstrate just how effective KNN works with purely numerical data. All it needs to do is feed the datapoints through the algorithm and output the result."
      ],
      "metadata": {
        "id": "yk1Vn9b9okOk"
      }
    },
    {
      "cell_type": "code",
      "source": [
        "#The primary codeblock for testing/validating predictions\n",
        "X_train, y_train, X_test, y_test= train_test_split(X,\n",
        "                                                   y,\n",
        "                                                   train_frac= .7) #Adjust train/test split here\n",
        "\n",
        "predictions= KNN_fit_pred(k=5) #Adjust k here\n",
        "correct= sum(p==a for p, a in zip(predictions, y_test))\n",
        "total= len(y_test)\n",
        "accuracy= correct/total\n",
        "\n",
        "print(f'Accuracy:{accuracy: .3f}')\n",
        "\n",
        "#Let's see what the predictions look like in a Confusion Matrix\n",
        "cm = pd.crosstab(y_test,\n",
        "                 predictions,\n",
        "                 rownames=['Actual'],\n",
        "                 colnames=['Predicted'])\n",
        "\n",
        "sns.heatmap(cm,\n",
        "            annot=True,\n",
        "            fmt=\"d\",\n",
        "            cmap=\"copper\")"
      ],
      "metadata": {
        "colab": {
          "base_uri": "https://localhost:8080/",
          "height": 489
        },
        "id": "z0jLpTLF70yx",
        "outputId": "5e7d09ca-f6f5-483a-9406-10506447e0f0"
      },
      "execution_count": null,
      "outputs": [
        {
          "output_type": "stream",
          "name": "stdout",
          "text": [
            "Accuracy: 0.983\n"
          ]
        },
        {
          "output_type": "execute_result",
          "data": {
            "text/plain": [
              "<Axes: xlabel='Predicted', ylabel='Actual'>"
            ]
          },
          "metadata": {},
          "execution_count": 8
        },
        {
          "output_type": "display_data",
          "data": {
            "text/plain": [
              "<Figure size 640x480 with 2 Axes>"
            ],
            "image/png": "[encoded data removed]"
          },
          "metadata": {}
        }
      ]
    },
    {
      "cell_type": "markdown",
      "source": [
        "Even with a liberal split like the example above, this rudimentary KNN model predicted the test data at over 98% accuracy. As this is my first model I've ever written, I was naturally concerned. It led me to multiple tests, including a t-SNE visualization (not portrayed) and some ridiculous splits as you'll see below.\n",
        "\n",
        "For both the course and Iris datasets, I chose to use an accuracy error metric. Generally, we want to pair this measurement with other scales, increasingly so as classes become more unevenly distributed. However for these particular sets, the classes are uncharacterictically balanced. Iris features three classes with 50 entries each, and the course set may have an imbalance of two or three out of 1999 entries. Thus, I considered Occam's Razor. In unique cases like these, its best to keep things simple."
      ],
      "metadata": {
        "id": "kon6FM2Ho3yd"
      }
    },
    {
      "cell_type": "markdown",
      "source": [
        "## Error Handling: Acknowledging the Strangeness\n",
        "Even with extemely clean datasets such as these, a user is bound to run into some anomalies. Below I demonstrate some of the inconsistencies I discovered as I wrote this algorithm and what I think they mean."
      ],
      "metadata": {
        "id": "cdqzvpq3xYo5"
      }
    },
    {
      "cell_type": "markdown",
      "source": [
        "### Noise: Bias or Variance?\n",
        "In this example, I run a second test of the KNN model using the course dataset. As noted in the train/test split, I use an uncommonly low split point, bound to cause underfitting in any other case."
      ],
      "metadata": {
        "id": "oxukCIhdyJIZ"
      }
    },
    {
      "cell_type": "code",
      "source": [
        "X_train, y_train, X_test, y_test= train_test_split(X,\n",
        "                                                   y,\n",
        "                                                   train_frac= .2) #Adjust train/test split here\n",
        "\n",
        "predictions= KNN_fit_pred(k=5) #Adjust k here\n",
        "correct= sum(p==a for p, a in zip(predictions, y_test))\n",
        "total= len(y_test)\n",
        "accuracy= correct/total\n",
        "\n",
        "print(f'Accuracy:{accuracy: .3f}')\n",
        "\n",
        "#Let's see what the predictions look like in a Confusion Matrix\n",
        "cm = pd.crosstab(y_test,\n",
        "                 predictions,\n",
        "                 rownames=['Actual'],\n",
        "                 colnames=['Predicted'])\n",
        "\n",
        "sns.heatmap(cm,\n",
        "            annot=True,\n",
        "            fmt=\"d\",\n",
        "            cmap=\"copper\")"
      ],
      "metadata": {
        "colab": {
          "base_uri": "https://localhost:8080/",
          "height": 484
        },
        "id": "LmOkTxMXNwxG",
        "outputId": "3367b711-8a97-4282-c36f-8d1e15ab2796"
      },
      "execution_count": null,
      "outputs": [
        {
          "output_type": "stream",
          "name": "stdout",
          "text": [
            "Accuracy: 0.964\n"
          ]
        },
        {
          "output_type": "execute_result",
          "data": {
            "text/plain": [
              "<Axes: xlabel='Predicted', ylabel='Actual'>"
            ]
          },
          "metadata": {},
          "execution_count": 176
        },
        {
          "output_type": "display_data",
          "data": {
            "text/plain": [
              "<Figure size 640x480 with 2 Axes>"
            ],
            "image/png": "[encoded data removed]"
          },
          "metadata": {}
        }
      ]
    },
    {
      "cell_type": "markdown",
      "source": [
        "As we can see, the model still scores over 96% accuracy in its predictions, testifying mainly to the predictability of the algorithm and the cleanliness of the dataset. However, it seems to have predicted one class entirely wrong; the KNN instance predicted '+' when it should have predicted 'h'\n",
        "\n",
        "wait... 'h'?\n",
        "\n",
        "the first time I caught this, I thought I had accidentally manipulated the dataset by accident when I first viewed it and had to download it again to confirm. Yeah, one of the instances is classified as 'h', making the course dataset a multiclass problem, checking off one of the optional implementations. Woo Hoo!\n",
        "\n",
        "But in all seriousness, this does introduce some interesting questions. Is this instance actually an 'h' class? Was this class entry a typo? Is there a systematic error in the way this data was collected?\n",
        "\n",
        "Largely--and I'll mention it a couple more times---it's hard to tell with featureless metadata. If this was Iris and we had 50 'Iris-setosa', 50 'Iris versicolor', 49 'Iris virginica', and 1 'h', one might quickly infer a typo. Or let's say we had a multiclass problem that used an alphabetical scale (a,b,c,d,etc...). Would that scale stop at 'g' or 'h'? What if it skipped letters? What if it was classifying musical notes? At the end of the day, knowing the domain of the dataset helps us understand the context of our classes.\n",
        "\n",
        "One thing that we can do, even with featureless metadata, is increase the number of instances. If we could expand the course data from 2000 to 10000, would we still only have one point? Or would we have a small cluster of 5 'h' classes? Generally, machine learning can handle variance but becomes skewed with bias."
      ],
      "metadata": {
        "id": "Vl8oudY_plI9"
      }
    },
    {
      "cell_type": "markdown",
      "source": [
        "### When K is greater than N\n",
        "As k approaches n, the model becomes less expressive and decision boundaries become smooth. Continue increasing k and we see predictions encapsulating entire portions of the dataset. By the time a prediction reaches k=n, the model will have chosen every entity, essentially resulting in any prediction representing the majority class. But what happens if k is even higher than that?\n",
        "\n",
        "In the example below, I split the Iris dataset 80/20, which corresponds to about 120 entities. Then I set k to 125, a larger quantity than the training set. Here's how it responds:"
      ],
      "metadata": {
        "id": "UI9rud-yy6QL"
      }
    },
    {
      "cell_type": "code",
      "source": [
        "X_train, y_train, X_test, y_test= train_test_split(X,\n",
        "                                                   y,\n",
        "                                                   train_frac= .8) #Adjust train/test split here\n",
        "\n",
        "predictions= KNN_fit_pred(k=125) #Adjust k here\n",
        "correct= sum(p==a for p, a in zip(predictions, y_test))\n",
        "total= len(y_test)\n",
        "accuracy= correct/total\n",
        "print(predictions[:5])\n",
        "print(f'Accuracy:{accuracy: .3f}')"
      ],
      "metadata": {
        "colab": {
          "base_uri": "https://localhost:8080/"
        },
        "id": "ffiOPFCBR5Vv",
        "outputId": "5c519652-6bf8-4d38-9fd8-72c9f94ca1f4"
      },
      "execution_count": null,
      "outputs": [
        {
          "output_type": "stream",
          "name": "stdout",
          "text": [
            "['Iris-setosa', 'Iris-setosa', 'Iris-setosa', 'Iris-setosa', 'Iris-setosa']\n",
            "Accuracy: 0.267\n"
          ]
        }
      ]
    },
    {
      "cell_type": "markdown",
      "source": [
        "The outcome was more of what I could have expected than I did. I think initially I was waiting for the model to throw an error, but it seems to treat it the same as k=n.\n",
        "\n",
        "We can still talk about why the accuracy score is lower than expected; with an even class distribution in the Iris dataset, a baseline might sit at around 33%. However, this has everything to do with the random train/test splitting. In an ideal world, the training set would come out balanced. However, this is the real world, and a random split better represents a true outcome. If we really wanted to, we could a cross validation and take the mean, but there's not really a scenario where we use this example outside of a graduate course."
      ],
      "metadata": {
        "id": "CeYdUjuBs_Qj"
      }
    },
    {
      "cell_type": "markdown",
      "source": [
        "### Tie Breakers\n",
        "When I first tested my algorithm, I used a variety of k values---from 1 to 100. In common practice, its easiest to use an odd value; that way, the model always have a majority class at the final count. But when I tested a variety of numbers, including evens, I always received an output; that had me curious.\n",
        "\n",
        "Having thought about this problem for some time (and seeing the t-SNE visualization), I've come to understand that because the classes are so distinct, there would have been a near improbability that a test in this dataset would have presented a tie.\n",
        "\n",
        "However, I've already done the test for tie breakers, so let's see how the model would handle one in a set not nearly as clean."
      ],
      "metadata": {
        "id": "76fV2RRNpoP0"
      }
    },
    {
      "cell_type": "code",
      "source": [
        "#A very rudimentary test to see how the model handles tie breakers\n",
        "tie_train_X= [[1,1], [1,1]], [[1,1], [1,1]], [[1,1], [1,1]], [[1,1], [1,0]]\n",
        "tie_train_y=   [['+','-'],     ['A', 'B'],     ['B', 'A'],     ['B', 'A']]\n",
        "\n",
        "tie_test_X= [[0,0]]\n",
        "\n",
        "for X, y in zip(tie_train_X, tie_train_y):\n",
        "  X_train= X\n",
        "  y_train= y\n",
        "  X_test= tie_test_X\n",
        "\n",
        "  tie_predictions= KNN_fit_pred(k=2) #k as 2 forces it to choose one of the two training points\n",
        "  print(tie_predictions)\n"
      ],
      "metadata": {
        "colab": {
          "base_uri": "https://localhost:8080/"
        },
        "id": "fvqouRoHV0UO",
        "outputId": "11277608-98de-4f8b-918f-a70bac5a9831"
      },
      "execution_count": null,
      "outputs": [
        {
          "output_type": "stream",
          "name": "stdout",
          "text": [
            "['+']\n",
            "['A']\n",
            "['B']\n",
            "['A']\n"
          ]
        }
      ]
    },
    {
      "cell_type": "markdown",
      "source": [
        "The test above sets four comparisons. The first three include only two equal points, and the fourth features two points with one closer than the other.\n",
        "\n",
        "I gave the first comparison points classes similar to the course data. In a KNN classification where k=2 (resulting in the model choosing only one external point), the classifier chose '+'. Why?\n",
        "\n",
        "In the second test, I just changed the classifiers. the model chose 'A'. Was it because it was alphabetical in nature? In the third test, I swapped those classifiers; it chose 'B'. Nope, it's probably just choosing the first index in case of a tie.\n",
        "\n",
        "In the fourth test, I gave the second point a closer distance. this time the model predicted 'A', correlating with that second entity. Everything's working, and in events of tiebreakers, it defaults to the earlier index.\n",
        "\n",
        "So what are the implications for this? Again, it really comes down to domain. In a featureless metadata set like this, this quirk is inconsequential. In a dataset where predictions have major consequences, such as malignant or benign cancers, one might want to weigh heavier a false alarm."
      ],
      "metadata": {
        "id": "odfpvS7IvqZb"
      }
    },
    {
      "cell_type": "markdown",
      "source": [
        "## Efficiency Limitations\n",
        "Let's finish this up with one of KNN's most glaring drawbacks---its computational inefficiency at high volume. As stated earlier, it takes almost no effort to load a training set into the algorithm. However, as soon as it receives a test, it's going to calculate the distance between all of the points. Remember, there's no real learning, so it's brute forcing predictions using:\n",
        "\n",
        "(number of training instances) x (the number of features) x (the number of test instances)\n",
        "\n",
        "In this test, I ran model instances using increasingly large model samples. I collect the sample size (bytes) and the average time it takes (seconds) to finish predictions. the results are presented below."
      ],
      "metadata": {
        "id": "EPs6qCNjp6Q0"
      }
    },
    {
      "cell_type": "code",
      "source": [
        "#Codeblock for compiling performance metrics (data size, compute time)\n",
        "step_sizes= [100, 200, 300, 500, 600, 700, 1000, 1500, (len(X) - 1)]\n",
        "rows= []\n",
        "memories= []\n",
        "times= []\n",
        "\n",
        "for n_rows in step_sizes: #Testing the model on samples of the dataset that match the step sizes above\n",
        "  if n_rows > len(X): #mainly if testing smaller datasets than the step sizes listed (Iris)\n",
        "    break\n",
        "\n",
        "  X_subset= X[:n_rows] #Looping with these subsets (Eg X_subset= X[1:100]...X[1:1500]...)\n",
        "  y_subset= y[:n_rows]\n",
        "  size= X_subset.nbytes + y_subset.nbytes #This is where it collects the byte size of the subsets\n",
        "\n",
        "  X_train, y_train, X_test, y_test= train_test_split(X_subset,\n",
        "                                                     y_subset,\n",
        "                                                     train_frac= .8)\n",
        "\n",
        "  n_repeats= 3 #for timing, test each subset n times and get an average\n",
        "  total_elapsed= 0.000\n",
        "  for _ in range(n_repeats):\n",
        "    t0= time.time()\n",
        "    KNN_fit_pred()\n",
        "    t1= time.time()\n",
        "    total_elapsed += (t1 - t0) #the n iterations add to total_elapsed from above\n",
        "\n",
        "  avg_time= (total_elapsed / n_repeats) #the mean time\n",
        "\n",
        "  rows.append(n_rows) #for each loop through the sample sizes,\n",
        "  memories.append(size) #the metrics are added to their respective lists at the top\n",
        "  times.append(avg_time)\n",
        "\n",
        "data= [rows, memories, times]\n",
        "table= pd.DataFrame(data).T #.T transposes the data list to make it legible in a dataframe table\n",
        "table.columns= ['Rows', 'Memory (bytes)', 'Time (sec)']\n",
        "table"
      ],
      "metadata": {
        "colab": {
          "base_uri": "https://localhost:8080/",
          "height": 331
        },
        "id": "M7XVm2tAo-1d",
        "outputId": "21e05a90-440d-48c9-c2bf-d1e5b6f39e29"
      },
      "execution_count": null,
      "outputs": [
        {
          "output_type": "execute_result",
          "data": {
            "text/plain": [
              "     Rows  Memory (bytes)  Time (sec)\n",
              "0   100.0          9600.0    0.017301\n",
              "1   200.0         19200.0    0.074095\n",
              "2   300.0         28800.0    0.132072\n",
              "3   500.0         48000.0    0.380693\n",
              "4   600.0         57600.0    0.534283\n",
              "5   700.0         67200.0    0.925015\n",
              "6  1000.0         96000.0    2.145096\n",
              "7  1500.0        144000.0    4.214377\n",
              "8  1998.0        191808.0    6.845496"
            ],
            "text/html": [
              "\n",
              "  <div id=\"df-6f43876d-db8e-45b3-acb3-6a6f4da722c1\" class=\"colab-df-container\">\n",
              "    <div>\n",
              "<style scoped>\n",
              "    .dataframe tbody tr th:only-of-type {\n",
              "        vertical-align: middle;\n",
              "    }\n",
              "\n",
              "    .dataframe tbody tr th {\n",
              "        vertical-align: top;\n",
              "    }\n",
              "\n",
              "    .dataframe thead th {\n",
              "        text-align: right;\n",
              "    }\n",
              "</style>\n",
              "<table border=\"1\" class=\"dataframe\">\n",
              "  <thead>\n",
              "    <tr style=\"text-align: right;\">\n",
              "      <th></th>\n",
              "      <th>Rows</th>\n",
              "      <th>Memory (bytes)</th>\n",
              "      <th>Time (sec)</th>\n",
              "    </tr>\n",
              "  </thead>\n",
              "  <tbody>\n",
              "    <tr>\n",
              "      <th>0</th>\n",
              "      <td>100.0</td>\n",
              "      <td>9600.0</td>\n",
              "      <td>0.017301</td>\n",
              "    </tr>\n",
              "    <tr>\n",
              "      <th>1</th>\n",
              "      <td>200.0</td>\n",
              "      <td>19200.0</td>\n",
              "      <td>0.074095</td>\n",
              "    </tr>\n",
              "    <tr>\n",
              "      <th>2</th>\n",
              "      <td>300.0</td>\n",
              "      <td>28800.0</td>\n",
              "      <td>0.132072</td>\n",
              "    </tr>\n",
              "    <tr>\n",
              "      <th>3</th>\n",
              "      <td>500.0</td>\n",
              "      <td>48000.0</td>\n",
              "      <td>0.380693</td>\n",
              "    </tr>\n",
              "    <tr>\n",
              "      <th>4</th>\n",
              "      <td>600.0</td>\n",
              "      <td>57600.0</td>\n",
              "      <td>0.534283</td>\n",
              "    </tr>\n",
              "    <tr>\n",
              "      <th>5</th>\n",
              "      <td>700.0</td>\n",
              "      <td>67200.0</td>\n",
              "      <td>0.925015</td>\n",
              "    </tr>\n",
              "    <tr>\n",
              "      <th>6</th>\n",
              "      <td>1000.0</td>\n",
              "      <td>96000.0</td>\n",
              "      <td>2.145096</td>\n",
              "    </tr>\n",
              "    <tr>\n",
              "      <th>7</th>\n",
              "      <td>1500.0</td>\n",
              "      <td>144000.0</td>\n",
              "      <td>4.214377</td>\n",
              "    </tr>\n",
              "    <tr>\n",
              "      <th>8</th>\n",
              "      <td>1998.0</td>\n",
              "      <td>191808.0</td>\n",
              "      <td>6.845496</td>\n",
              "    </tr>\n",
              "  </tbody>\n",
              "</table>\n",
              "</div>\n",
              "    <div class=\"colab-df-buttons\">\n",
              "\n",
              "  <div class=\"colab-df-container\">\n",
              "    <button class=\"colab-df-convert\" onclick=\"convertToInteractive('df-6f43876d-db8e-45b3-acb3-6a6f4da722c1')\"\n",
              "            title=\"Convert this dataframe to an interactive table.\"\n",
              "            style=\"display:none;\">\n",
              "\n",
              "  <svg xmlns=\"http://www.w3.org/2000/svg\" height=\"24px\" viewBox=\"0 -960 960 960\">\n",
              "    <path d=\"M120-120v-720h720v720H120Zm60-500h600v-160H180v160Zm220 220h160v-160H400v160Zm0 220h160v-160H400v160ZM180-400h160v-160H180v160Zm440 0h160v-160H620v160ZM180-180h160v-160H180v160Zm440 0h160v-160H620v160Z\"/>\n",
              "  </svg>\n",
              "    </button>\n",
              "\n",
              "  <style>\n",
              "    .colab-df-container {\n",
              "      display:flex;\n",
              "      gap: 12px;\n",
              "    }\n",
              "\n",
              "    .colab-df-convert {\n",
              "      background-color: #E8F0FE;\n",
              "      border: none;\n",
              "      border-radius: 50%;\n",
              "      cursor: pointer;\n",
              "      display: none;\n",
              "      fill: #1967D2;\n",
              "      height: 32px;\n",
              "      padding: 0 0 0 0;\n",
              "      width: 32px;\n",
              "    }\n",
              "\n",
              "    .colab-df-convert:hover {\n",
              "      background-color: #E2EBFA;\n",
              "      box-shadow: 0px 1px 2px rgba(60, 64, 67, 0.3), 0px 1px 3px 1px rgba(60, 64, 67, 0.15);\n",
              "      fill: #174EA6;\n",
              "    }\n",
              "\n",
              "    .colab-df-buttons div {\n",
              "      margin-bottom: 4px;\n",
              "    }\n",
              "\n",
              "    [theme=dark] .colab-df-convert {\n",
              "      background-color: #3B4455;\n",
              "      fill: #D2E3FC;\n",
              "    }\n",
              "\n",
              "    [theme=dark] .colab-df-convert:hover {\n",
              "      background-color: #434B5C;\n",
              "      box-shadow: 0px 1px 3px 1px rgba(0, 0, 0, 0.15);\n",
              "      filter: drop-shadow(0px 1px 2px rgba(0, 0, 0, 0.3));\n",
              "      fill: #FFFFFF;\n",
              "    }\n",
              "  </style>\n",
              "\n",
              "    <script>\n",
              "      const buttonEl =\n",
              "        document.querySelector('#df-6f43876d-db8e-45b3-acb3-6a6f4da722c1 button.colab-df-convert');\n",
              "      buttonEl.style.display =\n",
              "        google.colab.kernel.accessAllowed ? 'block' : 'none';\n",
              "\n",
              "      async function convertToInteractive(key) {\n",
              "        const element = document.querySelector('#df-6f43876d-db8e-45b3-acb3-6a6f4da722c1');\n",
              "        const dataTable =\n",
              "          await google.colab.kernel.invokeFunction('convertToInteractive',\n",
              "                                                    [key], {});\n",
              "        if (!dataTable) return;\n",
              "\n",
              "        const docLinkHtml = 'Like what you see? Visit the ' +\n",
              "          '<a target=\"_blank\" href=https://colab.research.google.com/notebooks/data_table.ipynb>data table notebook</a>'\n",
              "          + ' to learn more about interactive tables.';\n",
              "        element.innerHTML = '';\n",
              "        dataTable['output_type'] = 'display_data';\n",
              "        await google.colab.output.renderOutput(dataTable, element);\n",
              "        const docLink = document.createElement('div');\n",
              "        docLink.innerHTML = docLinkHtml;\n",
              "        element.appendChild(docLink);\n",
              "      }\n",
              "    </script>\n",
              "  </div>\n",
              "\n",
              "\n",
              "    <div id=\"df-a086de37-032d-47a4-8536-f0b7667df213\">\n",
              "      <button class=\"colab-df-quickchart\" onclick=\"quickchart('df-a086de37-032d-47a4-8536-f0b7667df213')\"\n",
              "                title=\"Suggest charts\"\n",
              "                style=\"display:none;\">\n",
              "\n",
              "<svg xmlns=\"http://www.w3.org/2000/svg\" height=\"24px\"viewBox=\"0 0 24 24\"\n",
              "     width=\"24px\">\n",
              "    <g>\n",
              "        <path d=\"M19 3H5c-1.1 0-2 .9-2 2v14c0 1.1.9 2 2 2h14c1.1 0 2-.9 2-2V5c0-1.1-.9-2-2-2zM9 17H7v-7h2v7zm4 0h-2V7h2v10zm4 0h-2v-4h2v4z\"/>\n",
              "    </g>\n",
              "</svg>\n",
              "      </button>\n",
              "\n",
              "<style>\n",
              "  .colab-df-quickchart {\n",
              "      --bg-color: #E8F0FE;\n",
              "      --fill-color: #1967D2;\n",
              "      --hover-bg-color: #E2EBFA;\n",
              "      --hover-fill-color: #174EA6;\n",
              "      --disabled-fill-color: #AAA;\n",
              "      --disabled-bg-color: #DDD;\n",
              "  }\n",
              "\n",
              "  [theme=dark] .colab-df-quickchart {\n",
              "      --bg-color: #3B4455;\n",
              "      --fill-color: #D2E3FC;\n",
              "      --hover-bg-color: #434B5C;\n",
              "      --hover-fill-color: #FFFFFF;\n",
              "      --disabled-bg-color: #3B4455;\n",
              "      --disabled-fill-color: #666;\n",
              "  }\n",
              "\n",
              "  .colab-df-quickchart {\n",
              "    background-color: var(--bg-color);\n",
              "    border: none;\n",
              "    border-radius: 50%;\n",
              "    cursor: pointer;\n",
              "    display: none;\n",
              "    fill: var(--fill-color);\n",
              "    height: 32px;\n",
              "    padding: 0;\n",
              "    width: 32px;\n",
              "  }\n",
              "\n",
              "  .colab-df-quickchart:hover {\n",
              "    background-color: var(--hover-bg-color);\n",
              "    box-shadow: 0 1px 2px rgba(60, 64, 67, 0.3), 0 1px 3px 1px rgba(60, 64, 67, 0.15);\n",
              "    fill: var(--button-hover-fill-color);\n",
              "  }\n",
              "\n",
              "  .colab-df-quickchart-complete:disabled,\n",
              "  .colab-df-quickchart-complete:disabled:hover {\n",
              "    background-color: var(--disabled-bg-color);\n",
              "    fill: var(--disabled-fill-color);\n",
              "    box-shadow: none;\n",
              "  }\n",
              "\n",
              "  .colab-df-spinner {\n",
              "    border: 2px solid var(--fill-color);\n",
              "    border-color: transparent;\n",
              "    border-bottom-color: var(--fill-color);\n",
              "    animation:\n",
              "      spin 1s steps(1) infinite;\n",
              "  }\n",
              "\n",
              "  @keyframes spin {\n",
              "    0% {\n",
              "      border-color: transparent;\n",
              "      border-bottom-color: var(--fill-color);\n",
              "      border-left-color: var(--fill-color);\n",
              "    }\n",
              "    20% {\n",
              "      border-color: transparent;\n",
              "      border-left-color: var(--fill-color);\n",
              "      border-top-color: var(--fill-color);\n",
              "    }\n",
              "    30% {\n",
              "      border-color: transparent;\n",
              "      border-left-color: var(--fill-color);\n",
              "      border-top-color: var(--fill-color);\n",
              "      border-right-color: var(--fill-color);\n",
              "    }\n",
              "    40% {\n",
              "      border-color: transparent;\n",
              "      border-right-color: var(--fill-color);\n",
              "      border-top-color: var(--fill-color);\n",
              "    }\n",
              "    60% {\n",
              "      border-color: transparent;\n",
              "      border-right-color: var(--fill-color);\n",
              "    }\n",
              "    80% {\n",
              "      border-color: transparent;\n",
              "      border-right-color: var(--fill-color);\n",
              "      border-bottom-color: var(--fill-color);\n",
              "    }\n",
              "    90% {\n",
              "      border-color: transparent;\n",
              "      border-bottom-color: var(--fill-color);\n",
              "    }\n",
              "  }\n",
              "</style>\n",
              "\n",
              "      <script>\n",
              "        async function quickchart(key) {\n",
              "          const quickchartButtonEl =\n",
              "            document.querySelector('#' + key + ' button');\n",
              "          quickchartButtonEl.disabled = true;  // To prevent multiple clicks.\n",
              "          quickchartButtonEl.classList.add('colab-df-spinner');\n",
              "          try {\n",
              "            const charts = await google.colab.kernel.invokeFunction(\n",
              "                'suggestCharts', [key], {});\n",
              "          } catch (error) {\n",
              "            console.error('Error during call to suggestCharts:', error);\n",
              "          }\n",
              "          quickchartButtonEl.classList.remove('colab-df-spinner');\n",
              "          quickchartButtonEl.classList.add('colab-df-quickchart-complete');\n",
              "        }\n",
              "        (() => {\n",
              "          let quickchartButtonEl =\n",
              "            document.querySelector('#df-a086de37-032d-47a4-8536-f0b7667df213 button');\n",
              "          quickchartButtonEl.style.display =\n",
              "            google.colab.kernel.accessAllowed ? 'block' : 'none';\n",
              "        })();\n",
              "      </script>\n",
              "    </div>\n",
              "\n",
              "  <div id=\"id_3044a9c6-4018-41a9-a45e-862d36c0c932\">\n",
              "    <style>\n",
              "      .colab-df-generate {\n",
              "        background-color: #E8F0FE;\n",
              "        border: none;\n",
              "        border-radius: 50%;\n",
              "        cursor: pointer;\n",
              "        display: none;\n",
              "        fill: #1967D2;\n",
              "        height: 32px;\n",
              "        padding: 0 0 0 0;\n",
              "        width: 32px;\n",
              "      }\n",
              "\n",
              "      .colab-df-generate:hover {\n",
              "        background-color: #E2EBFA;\n",
              "        box-shadow: 0px 1px 2px rgba(60, 64, 67, 0.3), 0px 1px 3px 1px rgba(60, 64, 67, 0.15);\n",
              "        fill: #174EA6;\n",
              "      }\n",
              "\n",
              "      [theme=dark] .colab-df-generate {\n",
              "        background-color: #3B4455;\n",
              "        fill: #D2E3FC;\n",
              "      }\n",
              "\n",
              "      [theme=dark] .colab-df-generate:hover {\n",
              "        background-color: #434B5C;\n",
              "        box-shadow: 0px 1px 3px 1px rgba(0, 0, 0, 0.15);\n",
              "        filter: drop-shadow(0px 1px 2px rgba(0, 0, 0, 0.3));\n",
              "        fill: #FFFFFF;\n",
              "      }\n",
              "    </style>\n",
              "    <button class=\"colab-df-generate\" onclick=\"generateWithVariable('table')\"\n",
              "            title=\"Generate code using this dataframe.\"\n",
              "            style=\"display:none;\">\n",
              "\n",
              "  <svg xmlns=\"http://www.w3.org/2000/svg\" height=\"24px\"viewBox=\"0 0 24 24\"\n",
              "       width=\"24px\">\n",
              "    <path d=\"M7,19H8.4L18.45,9,17,7.55,7,17.6ZM5,21V16.75L18.45,3.32a2,2,0,0,1,2.83,0l1.4,1.43a1.91,1.91,0,0,1,.58,1.4,1.91,1.91,0,0,1-.58,1.4L9.25,21ZM18.45,9,17,7.55Zm-12,3A5.31,5.31,0,0,0,4.9,8.1,5.31,5.31,0,0,0,1,6.5,5.31,5.31,0,0,0,4.9,4.9,5.31,5.31,0,0,0,6.5,1,5.31,5.31,0,0,0,8.1,4.9,5.31,5.31,0,0,0,12,6.5,5.46,5.46,0,0,0,6.5,12Z\"/>\n",
              "  </svg>\n",
              "    </button>\n",
              "    <script>\n",
              "      (() => {\n",
              "      const buttonEl =\n",
              "        document.querySelector('#id_3044a9c6-4018-41a9-a45e-862d36c0c932 button.colab-df-generate');\n",
              "      buttonEl.style.display =\n",
              "        google.colab.kernel.accessAllowed ? 'block' : 'none';\n",
              "\n",
              "      buttonEl.onclick = () => {\n",
              "        google.colab.notebook.generateWithVariable('table');\n",
              "      }\n",
              "      })();\n",
              "    </script>\n",
              "  </div>\n",
              "\n",
              "    </div>\n",
              "  </div>\n"
            ],
            "application/vnd.google.colaboratory.intrinsic+json": {
              "type": "dataframe",
              "variable_name": "table",
              "summary": "{\n  \"name\": \"table\",\n  \"rows\": 9,\n  \"fields\": [\n    {\n      \"column\": \"Rows\",\n      \"properties\": {\n        \"dtype\": \"number\",\n        \"std\": 631.9681778205116,\n        \"min\": 100.0,\n        \"max\": 1998.0,\n        \"num_unique_values\": 9,\n        \"samples\": [\n          1500.0,\n          200.0,\n          700.0\n        ],\n        \"semantic_type\": \"\",\n        \"description\": \"\"\n      }\n    },\n    {\n      \"column\": \"Memory (bytes)\",\n      \"properties\": {\n        \"dtype\": \"number\",\n        \"std\": 60668.945070769114,\n        \"min\": 9600.0,\n        \"max\": 191808.0,\n        \"num_unique_values\": 9,\n        \"samples\": [\n          144000.0,\n          19200.0,\n          67200.0\n        ],\n        \"semantic_type\": \"\",\n        \"description\": \"\"\n      }\n    },\n    {\n      \"column\": \"Time (sec)\",\n      \"properties\": {\n        \"dtype\": \"number\",\n        \"std\": 2.361930556499414,\n        \"min\": 0.017300844192504883,\n        \"max\": 6.845495621363322,\n        \"num_unique_values\": 9,\n        \"samples\": [\n          4.21437684694926,\n          0.07409501075744629,\n          0.9250151316324869\n        ],\n        \"semantic_type\": \"\",\n        \"description\": \"\"\n      }\n    }\n  ]\n}"
            }
          },
          "metadata": {},
          "execution_count": 17
        }
      ]
    },
    {
      "cell_type": "markdown",
      "source": [
        "For context of these scores, I'm running this test locally on a workstation with 1.8GHz clockspeed and 32GB of RAM. The dataset at its max comes out to just below 200KB, so I was never in a range of maxing out memory. Even still, I ran into a wait time of nearly 7 seconds at only 1998 entities split and 11 features.\n",
        "\n",
        "What does this mean if I needed a prediction in real time? To complete the function in about half a second, I could only load about 600 entities split.\n",
        "\n",
        "Some back-of-the-napkin math for the project requirement. Let's say I have the same generation workstation, but it's 5GHz instead of 1.8GHz. Assuming all other components are relative, this faster workstation results in:\n",
        "\n",
        "5GHz/1.8GHz = 2.8x quicker computation.\n",
        "\n",
        "Okay, so if my computer can run a rudimentary KNN algorithm using 600 entities and 11 features in 0.5s, a workstation with 5GHz and 128GB RAM should be able to handle about 1700 entities split and 11 features in the same time. Wow, that's almost the entire course dataset!\n",
        "\n",
        "Still, what if a user is working with data including tens of thousands of entities? This is pretty common in the real world. Does KNN make sense for any practical application at this scale?"
      ],
      "metadata": {
        "id": "hJDRp0yI1hRF"
      }
    },
    {
      "cell_type": "markdown",
      "source": [
        "## Final Thoughts and Considerations\n",
        "In this project, I demonstrated the strengths and weakness of the K-Nearest Neighbor algorithm as it handles purely numerical data and binary classifiers. The model is incredibly easy to set up, only taking a couple parameters. And with properly cleaned data, one can receive surprisingly accurate predictions.\n",
        "\n",
        "However, KNNs trade their accuracy for high computations. Instead of learning weights and applying its learning to test sets, it painstakingly calculates each distance. For any time sensitive problem, a developer may be hard pressed to use this model.\n",
        "\n",
        "Additionally, KNNs are susceptible to irrelevant attributes as well as noise. If it weren't for the incredibly clean practice sets, my algorithm may not have performed well. Additionally, if it had any more features, both efficiency and accuracy would have crumbled.\n",
        "\n",
        "After working with this model and dataset, I might like to experiment with a simple perceptron. This ANN works exceedingly well under the same conditions (numerical, clean, binary classes), except it handles its heavy computation at fitting instead of at prediction. So while it would have taken upwards to 8 seconds for the algorithm to receive the training set, its predictions would have finished notably quicker. The beautiful thing about this idea is that you can predict over and over again so long as that data is still fitted to the model.\n",
        "\n",
        "Beyond the idea of switching models altogether, I also considered a couple of tactics for improving efficiency. If we stripped all of the restrictions of this project, It might be worth testing a principle component analysis (PCA) to determine which features were the most relevant and which provided the least information. Even lowering the dimensionality by a couple of features could have made a considerable difference in efficiency.\n",
        "\n",
        "Now, if I had more time, I may have considered standardizing the dataset. While this does nothing directly to improve efficiency, it would ensure that all continuous points were on the same unit of measurement, increasing accuracy. And as we saw in the test, the cleaner the model, the less training data needed. And when training data reduces, the model has fewer calculations to do. In this indirect way, normalizing could have an influence on efficiency."
      ],
      "metadata": {
        "id": "hQYmCv66qR0F"
      }
    }
  ]
}