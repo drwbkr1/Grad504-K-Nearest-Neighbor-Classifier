{
  "nbformat": 4,
  "nbformat_minor": 0,
  "metadata": {
    "colab": {
      "provenance": [],
      "mount_file_id": "1Icjd9peBw30wo9-UO9T7Bsc9X78KNtB2",
      "authorship_tag": "ABX9TyP+RnDotGSWpxcPKhNP7tdY",
      "include_colab_link": true
    },
    "kernelspec": {
      "name": "python3",
      "display_name": "Python 3"
    },
    "language_info": {
      "name": "python"
    }
  },
  "cells": [
    {
      "cell_type": "markdown",
      "metadata": {
        "id": "view-in-github",
        "colab_type": "text"
      },
      "source": [
        "<a href=\"https://colab.research.google.com/github/drwbkr1/Grad504-K-Nearest-Neighbor-Classifier/blob/main/KNN_Project_Notebook.ipynb\" target=\"_parent\"><img src=\"https://colab.research.google.com/assets/colab-badge.svg\" alt=\"Open In Colab\"/></a>"
      ]
    },
    {
      "cell_type": "code",
      "execution_count": 1,
      "metadata": {
        "collapsed": true,
        "id": "rloNfyMJSdL6"
      },
      "outputs": [],
      "source": [
        "#load dataset\n",
        "import pandas as pd\n",
        "import numpy as np"
      ]
    },
    {
      "cell_type": "code",
      "source": [
        "#Any dataset is verified for basic parameters before preprocessing.\n",
        "def load_csv(file):\n",
        "  df= pd.read_csv(file)\n",
        "\n",
        "  #Check for data in dataset, numerical features for supporting floating-point inputs\n",
        "  if df.shape[1] < 2:\n",
        "    raise ValueError(\"File must have at least one feature and a target\")\n",
        "  try:\n",
        "    X_df= df.iloc[:, :-1].astype(float)\n",
        "  except ValueError:\n",
        "    raise ValueError(\"Error: Features must be numerical\")\n",
        "\n",
        "  #Split dataset into features and target, features to floating point.\n",
        "  X= df.iloc[:, :-1].to_numpy(dtype=float)\n",
        "  y= df.iloc[:, -1].to_numpy()\n",
        "\n",
        "  #Check for feature-target congruency, feature congruency\n",
        "  if not X.shape[0]==y.shape[0]:\n",
        "    raise ValueError(\"Error: Features and target must have the same length\")\n",
        "  if not all(len(features)==len(X[0]) for features in X):\n",
        "    raise ValueError(\"Error: All features must have the same length\")\n",
        "\n",
        "  return X, y"
      ],
      "metadata": {
        "id": "oBm7tNrgZBSt"
      },
      "execution_count": 2,
      "outputs": []
    },
    {
      "cell_type": "code",
      "source": [
        "#Establish the model class to create new instance for any dataset. Includes classifier mechanics and fit/predict methods.\n",
        "class KNNClassifier:\n",
        "  def __init__(self, n_neighbors):\n",
        "    self.k= n_neighbors\n",
        "    self.X_train= []\n",
        "    self.y_train= []\n",
        "\n",
        "  def fit(self, X_train, y_train): #Receives training split, fit it to KNN instance.\n",
        "    self.X_train= X_train\n",
        "    self.y_train= y_train\n",
        "\n",
        "  def euclidean_distance(self, X_test, X_train):\n",
        "    distance= np.sqrt(sum((X_testi - X_traini)**2 for X_testi, X_traini in zip(X_test, X_train)))\n",
        "    return distance\n",
        "\n",
        "  def KNN_classifier(self, X_test):\n",
        "    distances= [(self.euclidean_distance(X_test, X_train), label) for X_train, label in zip(X_train, y_train)]\n",
        "    distances.sort(key=lambda x: x[0])\n",
        "    k_neighbors= [label for _, label in distances[:self.k]]\n",
        "    from collections import Counter\n",
        "    return Counter(k_neighbors).most_common(1)[0][0]\n",
        "\n",
        "  def predict(self, X_test): #Utilizes KNN_classifier method to create a list of predicted classifiers.\n",
        "    return [self.KNN_classifier(x) for x in X_test]"
      ],
      "metadata": {
        "id": "z0Xbrc4hrMcv"
      },
      "execution_count": 3,
      "outputs": []
    },
    {
      "cell_type": "code",
      "source": [
        "course= (\"/content/drive/MyDrive/Colab Notebooks/datasets/Prog1data.csv\")\n",
        "iris= (\"/content/drive/MyDrive/Colab Notebooks/datasets/Iris.csv\")\n",
        "\n",
        "#Load data into core variables\n",
        "X, y= load_csv(iris)\n",
        "for i in range(3):\n",
        "  print(X[i], y[i])\n",
        "print(X.dtype, y.dtype)"
      ],
      "metadata": {
        "colab": {
          "base_uri": "https://localhost:8080/"
        },
        "id": "mQZITl3zWasV",
        "outputId": "f0b5e713-bdd1-4545-9993-2a60a30de6f8"
      },
      "execution_count": 6,
      "outputs": [
        {
          "output_type": "stream",
          "name": "stdout",
          "text": [
            "[1.  5.1 3.5 1.4 0.2] Iris-setosa\n",
            "[2.  4.9 3.  1.4 0.2] Iris-setosa\n",
            "[3.  4.7 3.2 1.3 0.2] Iris-setosa\n",
            "float64 object\n"
          ]
        }
      ]
    },
    {
      "cell_type": "code",
      "source": [
        "from sklearn.model_selection import train_test_split\n",
        "\n",
        "X_train, X_test, y_train, y_test= train_test_split(X, y,\n",
        "                                                   train_size= .5, test_size=.5,\n",
        "                                                   random_state= 0)\n",
        "\n",
        "model= KNNClassifier(n_neighbors= 5)\n",
        "model.fit(X_train, y_train)\n",
        "predictions= model.predict(X_test)\n",
        "print(predictions[:10])\n",
        "\n",
        "correct= sum(p==a for p, a in zip(predictions, y_test))\n",
        "total= len(y_test)\n",
        "accuracy= correct/total\n",
        "print(f\"Accuracy: {accuracy}\")"
      ],
      "metadata": {
        "colab": {
          "base_uri": "https://localhost:8080/"
        },
        "id": "ytzD5hR3IKhq",
        "outputId": "c75daa4f-c087-43d6-d673-47712ea395f6"
      },
      "execution_count": 7,
      "outputs": [
        {
          "output_type": "stream",
          "name": "stdout",
          "text": [
            "['Iris-virginica', 'Iris-versicolor', 'Iris-setosa', 'Iris-virginica', 'Iris-setosa', 'Iris-virginica', 'Iris-setosa', 'Iris-versicolor', 'Iris-versicolor', 'Iris-versicolor']\n",
            "Accuracy: 0.9733333333333334\n"
          ]
        }
      ]
    }
  ]
}