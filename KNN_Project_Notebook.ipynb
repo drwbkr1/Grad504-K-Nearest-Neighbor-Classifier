{
  "nbformat": 4,
  "nbformat_minor": 0,
  "metadata": {
    "colab": {
      "provenance": [],
      "mount_file_id": "1Icjd9peBw30wo9-UO9T7Bsc9X78KNtB2",
      "authorship_tag": "ABX9TyOabS514MipbITHudWeZpMH",
      "include_colab_link": true
    },
    "kernelspec": {
      "name": "python3",
      "display_name": "Python 3"
    },
    "language_info": {
      "name": "python"
    }
  },
  "cells": [
    {
      "cell_type": "markdown",
      "metadata": {
        "id": "view-in-github",
        "colab_type": "text"
      },
      "source": [
        "<a href=\"https://colab.research.google.com/github/drwbkr1/Grad504-K-Nearest-Neighbor-Classifier/blob/main/KNN_Project_Notebook.ipynb\" target=\"_parent\"><img src=\"https://colab.research.google.com/assets/colab-badge.svg\" alt=\"Open In Colab\"/></a>"
      ]
    },
    {
      "cell_type": "code",
      "execution_count": 1,
      "metadata": {
        "collapsed": true,
        "id": "rloNfyMJSdL6"
      },
      "outputs": [],
      "source": [
        "#load dataset\n",
        "import pandas as pd\n",
        "import numpy as np"
      ]
    },
    {
      "cell_type": "code",
      "source": [
        "#Any dataset is verified for basic parameters before preprocessing.\n",
        "def load_csv(file):\n",
        "  df= pd.read_csv(file)\n",
        "\n",
        "  #Check for data in dataset, numerical features for supporting floating-point inputs\n",
        "  if df.shape[1] < 2:\n",
        "    raise ValueError(\"File must have at least one feature and a target\")\n",
        "  try:\n",
        "    X_df= df.iloc[:, :-1].astype(float)\n",
        "  except ValueError:\n",
        "    raise ValueError(\"Error: Features must be numerical\")\n",
        "\n",
        "  #Split dataset into features and target, features to floating point.\n",
        "  X= df.iloc[:, :-1].to_numpy(dtype=float)\n",
        "  y= df.iloc[:, -1].to_numpy()\n",
        "\n",
        "  #Check for feature-target congruency, feature congruency\n",
        "  if not X.shape[0]==y.shape[0]:\n",
        "    raise ValueError(\"Error: Features and target must have the same length\")\n",
        "  if not all(len(features)==len(X[0]) for features in X):\n",
        "    raise ValueError(\"Error: All features must have the same length\")\n",
        "\n",
        "  return X, y"
      ],
      "metadata": {
        "id": "oBm7tNrgZBSt"
      },
      "execution_count": 18,
      "outputs": []
    },
    {
      "cell_type": "code",
      "source": [
        "#Establish the model class to create new instance for any dataset. Includes classifier mechanics and fit/predict methods.\n",
        "class KNNClassifier:\n",
        "  def __init__(self, n_neighbors):\n",
        "    self.k= n_neighbors\n",
        "    self.X_train= []\n",
        "    self.y_train= []\n",
        "\n",
        "  def fit(self, X_train, y_train): #Receives training split, fit it to KNN instance.\n",
        "    self.X_train= X_train\n",
        "    self.y_train= y_train\n",
        "\n",
        "  def euclidean_distance(self, X_test, X_train):\n",
        "    distance= np.sqrt(sum((X_testi - X_traini)**2 for X_testi, X_traini in zip(X_test, X_train)))\n",
        "    return distance\n",
        "\n",
        "  def KNN_classifier(self, X_test):\n",
        "    distances= [(self.euclidean_distance(X_test, X_train), label) for X_train, label in zip(X_train, y_train)]\n",
        "    distances.sort(key=lambda x: x[0])\n",
        "    k_neighbors= [label for _, label in distances[:self.k]]\n",
        "    from collections import Counter\n",
        "    return Counter(k_neighbors).most_common(1)[0][0]\n",
        "\n",
        "  def predict(self, X_test): #Utilizes KNN_classifier method to create a list of predicted classifiers.\n",
        "    return [self.KNN_classifier(x) for x in X_test]"
      ],
      "metadata": {
        "id": "z0Xbrc4hrMcv"
      },
      "execution_count": 13,
      "outputs": []
    },
    {
      "cell_type": "code",
      "source": [
        "course= (\"/content/drive/MyDrive/Colab Notebooks/datasets/Prog1data.csv\")\n",
        "iris= (\"/content/drive/MyDrive/Colab Notebooks/datasets/Iris.csv\")\n",
        "\n",
        "#Load data into core variables\n",
        "X, y, df= load_csv(iris)\n",
        "for i in range(3):\n",
        "  print(X[i], y[i])\n",
        "print(X.dtype, y.dtype)"
      ],
      "metadata": {
        "colab": {
          "base_uri": "https://localhost:8080/"
        },
        "id": "mQZITl3zWasV",
        "outputId": "132ee4e5-54da-4d28-85cb-be8466c97298"
      },
      "execution_count": 16,
      "outputs": [
        {
          "output_type": "stream",
          "name": "stdout",
          "text": [
            "[1.  5.1 3.5 1.4 0.2] Iris-setosa\n",
            "[2.  4.9 3.  1.4 0.2] Iris-setosa\n",
            "[3.  4.7 3.2 1.3 0.2] Iris-setosa\n",
            "float64 object\n"
          ]
        }
      ]
    },
    {
      "cell_type": "code",
      "source": [
        "# @title\n",
        "from sklearn.manifold import TSNE\n",
        "import seaborn as sns\n",
        "\n",
        "tsne= TSNE(n_components= 2, random_state= 0)\n",
        "X_tsne= tsne.fit_transform(X)\n",
        "tsne_df= pd.DataFrame(X_tsne, columns= ['TSNE_dim1', 'TSNE_dim2'])\n",
        "\n",
        "sns.scatterplot(x= 'TSNE_dim1',\n",
        "                y= 'TSNE_dim2',\n",
        "                data= tsne_df,\n",
        "                hue = y)\n"
      ],
      "metadata": {
        "id": "1UXl5nCTQpME",
        "cellView": "form"
      },
      "execution_count": null,
      "outputs": []
    },
    {
      "cell_type": "code",
      "source": [
        "train_frac= .6\n",
        "\n",
        "rng= np.random.default_rng(seed= 0)\n",
        "shuffled_idx= rng.permutation(len(X))\n",
        "n_train= int(len(X) * train_frac)\n",
        "\n",
        "train_idx= shuffled_idx[:n_train]\n",
        "test_idx= shuffled_idx[n_train:]\n",
        "\n",
        "X_train= X[train_idx]\n",
        "y_train= y[train_idx]\n",
        "X_test=X[test_idx]\n",
        "y_test= y[test_idx]"
      ],
      "metadata": {
        "id": "z0jLpTLF70yx"
      },
      "execution_count": 28,
      "outputs": []
    },
    {
      "cell_type": "code",
      "source": [
        "'''from sklearn.model_selection import train_test_split\n",
        "\n",
        "X_train, X_test, y_train, y_test= train_test_split(X, y,\n",
        "                                                   train_size= .2, test_size= .8,\n",
        "                                                   random_state= 0)'''\n",
        "\n",
        "model= KNNClassifier(n_neighbors= 20)\n",
        "model.fit(X_train, y_train)\n",
        "predictions= model.predict(X_test)\n",
        "print(predictions[:10])\n",
        "\n",
        "correct= sum(p==a for p, a in zip(predictions, y_test))\n",
        "total= len(y_test)\n",
        "accuracy= correct/total\n",
        "print(f\"Accuracy: {accuracy}\")"
      ],
      "metadata": {
        "colab": {
          "base_uri": "https://localhost:8080/"
        },
        "id": "ytzD5hR3IKhq",
        "outputId": "52a79051-6aa1-4531-eeae-d6155ad3e6b3"
      },
      "execution_count": 29,
      "outputs": [
        {
          "output_type": "stream",
          "name": "stdout",
          "text": [
            "['Iris-setosa', 'Iris-versicolor', 'Iris-versicolor', 'Iris-versicolor', 'Iris-setosa', 'Iris-virginica', 'Iris-versicolor', 'Iris-setosa', 'Iris-virginica', 'Iris-virginica']\n",
            "Accuracy: 1.0\n"
          ]
        }
      ]
    },
    {
      "cell_type": "code",
      "source": [
        "import seaborn as sns\n",
        "cm = pd.crosstab(y_test, predictions, rownames=['Actual'], colnames=['Predicted'])\n",
        "\n",
        "sns.heatmap(cm, annot=True, fmt=\"d\", cmap=\"copper\")"
      ],
      "metadata": {
        "colab": {
          "base_uri": "https://localhost:8080/",
          "height": 466
        },
        "id": "qjqLEUVSrDJU",
        "outputId": "c458b25e-d5d3-42db-9db0-e871b3982eb0"
      },
      "execution_count": 30,
      "outputs": [
        {
          "output_type": "execute_result",
          "data": {
            "text/plain": [
              "<Axes: xlabel='Predicted', ylabel='Actual'>"
            ]
          },
          "metadata": {},
          "execution_count": 30
        },
        {
          "output_type": "display_data",
          "data": {
            "text/plain": [
              "<Figure size 640x480 with 2 Axes>"
            ],
            "image/png": "[encoded data removed]"
          },
          "metadata": {}
        }
      ]
    }
  ]
}