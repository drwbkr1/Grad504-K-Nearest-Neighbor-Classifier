{
  "nbformat": 4,
  "nbformat_minor": 0,
  "metadata": {
    "colab": {
      "provenance": [],
      "mount_file_id": "1Icjd9peBw30wo9-UO9T7Bsc9X78KNtB2",
      "authorship_tag": "ABX9TyPjDpl3h3z6bzipxoaLBKI4",
      "include_colab_link": true
    },
    "kernelspec": {
      "name": "python3",
      "display_name": "Python 3"
    },
    "language_info": {
      "name": "python"
    }
  },
  "cells": [
    {
      "cell_type": "markdown",
      "metadata": {
        "id": "view-in-github",
        "colab_type": "text"
      },
      "source": [
        "<a href=\"https://colab.research.google.com/github/drwbkr1/Grad504-K-Nearest-Neighbor-Classifier/blob/main/KNN_Project_Notebook.ipynb\" target=\"_parent\"><img src=\"https://colab.research.google.com/assets/colab-badge.svg\" alt=\"Open In Colab\"/></a>"
      ]
    },
    {
      "cell_type": "code",
      "execution_count": null,
      "metadata": {
        "collapsed": true,
        "id": "rloNfyMJSdL6"
      },
      "outputs": [],
      "source": [
        "#load dataset\n",
        "import pandas as pd\n",
        "import numpy as np\n",
        "\n",
        "file= (\"/content/drive/MyDrive/Colab Notebooks/datasets/Prog1data.csv\")\n",
        "df= pd.read_csv(file)"
      ]
    },
    {
      "cell_type": "code",
      "source": [
        "#split data into features and target\n",
        "X= df.iloc[:, :-1].to_numpy(dtype=float)\n",
        "y= df.iloc[:, -1].to_numpy()"
      ],
      "metadata": {
        "collapsed": true,
        "id": "70KhgNDwc2ra"
      },
      "execution_count": null,
      "outputs": []
    },
    {
      "cell_type": "code",
      "source": [
        "#quick exam on split\n",
        "assert X.shape[0]==y.shape[0]\n",
        "assert all(len(features)==len(X[0]) for features in X)\n",
        "for i in range(3):\n",
        "  print(X[i], y[i])\n",
        "print(X.dtype, y.dtype)"
      ],
      "metadata": {
        "id": "0vQerM0gsavO"
      },
      "execution_count": null,
      "outputs": []
    }
  ]
}